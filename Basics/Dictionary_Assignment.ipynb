{
 "cells": [
  {
   "cell_type": "code",
   "execution_count": 1,
   "metadata": {
    "colab": {},
    "colab_type": "code",
    "id": "2k4ZB9yltJCa"
   },
   "outputs": [
    {
     "name": "stdout",
     "output_type": "stream",
     "text": [
      "{'email': 'tom_latham019@gmail.com', 'Phone': 1987654321, 'City': 'California'}\n",
      "{'email': 'kathy_abram897@gmail.com', 'Phone': 1887654321, 'City': 'New York'}\n"
     ]
    }
   ],
   "source": [
    "# Initialize a dictionary \"emp_info\" with below details\n",
    "# In - emp_info['Tom']\n",
    "# Out - {'email':'tom_latham019@gmail.com', 'Phone': +1987654321, 'City': 'California'}\n",
    "emp_info ={'Tom':{ 'email':'tom_latham019@gmail.com', 'Phone': +1987654321, 'City': 'California'},'Kathy':{ 'email':'kathy_abram897@gmail.com', 'Phone': +1887654321, 'City': 'New York'}}\n",
    "print(emp_info['Tom'])\n",
    "# In - emp_info['Kathy']\n",
    "# Out - {'email':'kathy_abram897@gmail.com', 'Phone': +1887654321, 'City': 'New York'}\n",
    "print(emp_info['Kathy'])\n",
    "\n"
   ]
  },
  {
   "cell_type": "code",
   "execution_count": 26,
   "metadata": {
    "colab": {},
    "colab_type": "code",
    "id": "BAUj-S0fqFWG"
   },
   "outputs": [
    {
     "name": "stdout",
     "output_type": "stream",
     "text": [
      "{'e_name': 'John', 'e_id': 'SG101', 'e_sal': '$10,000'}\n",
      "{'e_name': 'Smith', 'e_id': 'SG102', 'e_sal': '$9,000'}\n",
      "{'e_name': 'Peter', 'e_id': 'SG103', 'e_sal': '$9,500'}\n",
      "{'emp1': {'e_name': 'John', 'e_id': 'SG101', 'e_sal': '$10,000'}, 'emp2': {'e_name': 'Smith', 'e_id': 'SG102', 'e_sal': '$9,000'}, 'emp3': {'e_name': 'Peter', 'e_id': 'SG103', 'e_sal': '$9,500'}}\n"
     ]
    }
   ],
   "source": [
    "# Create a dictionary out of below inputs\n",
    "# lst1 = ['emp1', 'emp2', 'emp3']\n",
    "# emp_key = ['e_name', 'e_id', 'e_sal']\n",
    "# emp1_val = ['John', 'SG101', '$10,000']\n",
    "# emp2_val = ['Smith', 'SG102', '$9,000']\n",
    "# emp3_val = ['Peter', 'SG103', '$9,500']\n",
    "\n",
    "lst1 = ['emp1', 'emp2', 'emp3']\n",
    "emp_key = ['e_name', 'e_id', 'e_sal']\n",
    "emp1_val = ['John', 'SG101', '$10,000']\n",
    "emp2_val = ['Smith', 'SG102', '$9,000']\n",
    "emp3_val = ['Peter', 'SG103', '$9,500']\n",
    "\n",
    "# Expected Output:- {'emp1':{'e_name':'John', 'e_id':'SG101', 'e_sal':$10,000}, \n",
    "#                    'emp2':{'e_name':'Smith', 'e_id':'SG102', 'e_sal':$9,000}, \n",
    "#                    'emp3':{'e_name':'Peter', 'e_id':'SG103', 'e_sal':$9,500}}\n",
    "\n",
    "emp1dict={}\n",
    "emp2dict={}\n",
    "emp3dict={}\n",
    "for ekey in emp_key:\n",
    "    for e1val  in emp1_val:\n",
    "        if (emp_key.index(ekey)==emp1_val.index(e1val)):\n",
    "            emp1dict.setdefault(ekey,e1val)\n",
    "        else:\n",
    "            pass\n",
    "    for e2val  in emp2_val:\n",
    "        if (emp_key.index(ekey)==emp2_val.index(e2val)):\n",
    "            emp2dict.setdefault(ekey,e2val)\n",
    "        else:\n",
    "            pass\n",
    "    for e3val  in emp3_val:\n",
    "        if (emp_key.index(ekey)==emp3_val.index(e3val)):\n",
    "            emp3dict.setdefault(ekey,e3val)\n",
    "        else:\n",
    "               pass       \n",
    "print(emp1dict)\n",
    "print(emp2dict)\n",
    "print(emp3dict)\n",
    "\n",
    "lstdict=[emp1dict,emp2dict,emp3dict]\n",
    "outdict={}\n",
    "for lst in lst1:\n",
    "    for dval in lstdict:\n",
    "        if (lst1.index(lst)==lstdict.index(dval)):\n",
    "            outdict.setdefault(lst,dval)\n",
    "        else:\n",
    "            pass\n",
    "print(outdict)\n",
    "    \n"
   ]
  },
  {
   "cell_type": "code",
   "execution_count": 36,
   "metadata": {
    "colab": {},
    "colab_type": "code",
    "id": "LxGZ3jbjrBkj"
   },
   "outputs": [
    {
     "name": "stdout",
     "output_type": "stream",
     "text": [
      "80\n"
     ]
    }
   ],
   "source": [
    "# Acess the value of key 'history'\n",
    "\n",
    "sampleDict = { \n",
    "   \"class\":{ \n",
    "      \"student\":{ \n",
    "         \"name\":\"Mike\",\n",
    "         \"marks\":{ \n",
    "            \"physics\":70,\n",
    "            \"history\":80\n",
    "         }\n",
    "      }\n",
    "   }\n",
    "}\n",
    "\n",
    "print(sampleDict['class']['student']['marks']['history'])\n",
    "\n",
    "\n"
   ]
  },
  {
   "cell_type": "code",
   "execution_count": 39,
   "metadata": {
    "colab": {},
    "colab_type": "code",
    "id": "Vm8UZbyNrKID"
   },
   "outputs": [
    {
     "name": "stdout",
     "output_type": "stream",
     "text": [
      "{'Kelly': {'designation': 'Application Developer', 'salary': 8000}, 'Emma': {'designation': 'Application Developer', 'salary': 8000}, 'John': {'designation': 'Application Developer', 'salary': 8000}}\n"
     ]
    }
   ],
   "source": [
    "# Initialize dictionary with default values. Inputs are:-\n",
    "# employees = ['Kelly', 'Emma', 'John']\n",
    "# defaults = {\"designation\": 'Application Developer', \"salary\": 8000}\n",
    "\n",
    "#Expected output:- {'Kelly': {'designation': 'Application Developer', 'salary': 8000}, \n",
    "#                   'Emma': {'designation': 'Application Developer', 'salary': 8000}, \n",
    "#                   'John': {'designation': 'Application Developer', 'salary': 8000}}\n",
    "\n",
    "employees = ['Kelly', 'Emma', 'John']\n",
    "defaults = {\"designation\": 'Application Developer', \"salary\": 8000}\n",
    "dictemp=dict.fromkeys(employees,defaults)\n",
    "print(dictemp)\n",
    "\n"
   ]
  },
  {
   "cell_type": "code",
   "execution_count": 48,
   "metadata": {
    "colab": {},
    "colab_type": "code",
    "id": "nmFdbaHBrThC"
   },
   "outputs": [
    {
     "name": "stdout",
     "output_type": "stream",
     "text": [
      "CUAGUUUUCCCCCCAAGGGCCCUUUUCCGGGGGGAAUU\n"
     ]
    }
   ],
   "source": [
    "# In gene expression, mRNA is transcribed from a DNA template. \n",
    "# The 4 nucleotide bases of A, T, C, G corresponds to the U, A, G, C bases of the mRNA. \n",
    "# Write a function that returns the mRNA transcript given the sequence of a DNA strand.\n",
    "\n",
    "# Use a dictionary to provide the mapping of DNA to RNA bases.\n",
    "\n",
    "DRmap_Dict = {'A':'U','T':'A','C':'G','G':'C'}\n",
    "#output :CUAGUUUUCCCCCCAAGGGCCCUUUUCCGGGGGGAAUU\n",
    "def mRNA(x):\n",
    "   # x = 'GATCAAAAGGGGGGTTCCCGGGAAAAGGCCCCCCTTAA'\n",
    "    y=''\n",
    "    for i in x:\n",
    "        for j in  DRmap_Dict:\n",
    "            if(i==j):\n",
    "                y= y + DRmap_Dict.get(j)\n",
    "            else:\n",
    "                pass\n",
    "            \n",
    "    return(y)\n",
    "print(mRNA('GATCAAAAGGGGGGTTCCCGGGAAAAGGCCCCCCTTAA'))\n",
    "\n"
   ]
  },
  {
   "cell_type": "code",
   "execution_count": 51,
   "metadata": {
    "colab": {},
    "colab_type": "code",
    "id": "rop1A1pQw6Uk"
   },
   "outputs": [
    {
     "name": "stdout",
     "output_type": "stream",
     "text": [
      "{'g': 2, 'o': 3, 'l': 1, 'e': 1, '.': 1, 'c': 1, 'm': 1}\n"
     ]
    }
   ],
   "source": [
    "# Write a function which takes a word as input and returns a dictionary with letters as key and no of time letters are repeated as value.\n",
    "# In - count_letter('google.com')\n",
    "# Out - {'g': 2, 'o': 3, 'l': 1, 'e': 1, '.': 1, 'c': 1, 'm': 1}\n",
    "\n",
    "def count_letter(inval):\n",
    "    #inval='google.com'\n",
    "    outdic ={}\n",
    "    for x in inval:\n",
    "        i= inval.count(x)\n",
    "        if x not in outdic:\n",
    "            outdic.setdefault(x,i)\n",
    "        else:\n",
    "            pass\n",
    "    return(outdic)\n",
    "print(count_letter('google.com'))\n"
   ]
  },
  {
   "cell_type": "code",
   "execution_count": 7,
   "metadata": {
    "colab": {},
    "colab_type": "code",
    "id": "vAwGIoxdw856"
   },
   "outputs": [
    {
     "name": "stdout",
     "output_type": "stream",
     "text": [
      "{'A': 4, 'C': 8, 'T': 5, 'G': 3}\n"
     ]
    }
   ],
   "source": [
    "# A DNA strand consisting of the 4 nucleotide bases is usually represented with a string of letters: A,T, C, G. \n",
    "# Write a function that computes the base composition of a given DNA sequence.\n",
    "\n",
    "# In - baseComposition(\"CTATCGGCACCCTTTCAGCA\")\n",
    "# Out - {'A': 4, 'C': 8, 'T': 5,  'G': 3 }\n",
    "    \n",
    "# In - baseComposition(\"AGT\")\n",
    "# Out - {'A': 1, 'C': 0, 'T': 1,  'G': 1 }\n",
    "\n",
    "DNAstrand=('A','C','T','G')\n",
    "out={}\n",
    "def baseComposition(x):\n",
    "    k=0\n",
    "    for i in DNAstrand:\n",
    "        k=x.count(i)\n",
    "        out.setdefault(i,k)        \n",
    "                 \n",
    "    return(out)\n",
    "\n",
    "print(baseComposition(\"CTATCGGCACCCTTTCAGCA\"))\n"
   ]
  },
  {
   "cell_type": "code",
   "execution_count": null,
   "metadata": {
    "colab": {},
    "colab_type": "code",
    "id": "iVNnSsvaxMDo"
   },
   "outputs": [],
   "source": [
    "# [MCQ] Suppose \"d\" is an empty dictionary, which statement does not assign \"d\" with {\"Name\":\"Tom\"}? \n",
    "# 1. d = {\"Name\": \"Tom\" }\n",
    "# 2. d[\"Name\"] = \"Tom\"\n",
    "# 3. d.update({\"Name\": \"Tom\" })\n",
    "# 4. d.setdefault(\"Name\", \"Tom\")\n",
    "# 5. None of the above.\n",
    "\n",
    "#5\n",
    "\n"
   ]
  },
  {
   "cell_type": "code",
   "execution_count": null,
   "metadata": {
    "colab": {},
    "colab_type": "code",
    "id": "tOgsXi2axnhF"
   },
   "outputs": [],
   "source": [
    "# [MCQ] d = {\"a\":1, \"b\":2}. Which of the statements returns [1,2]? \n",
    "# 1. d.keys()\n",
    "# 2. d.values()\n",
    "# 3. d.items()\n",
    "# 4. d.popitem()\n",
    "# 5. None of the above.\n",
    "\n",
    "#2"
   ]
  },
  {
   "cell_type": "code",
   "execution_count": null,
   "metadata": {
    "colab": {},
    "colab_type": "code",
    "id": "BeNNopkDzK0k"
   },
   "outputs": [],
   "source": [
    "# [MCQ] Which of the following declarations is not valid for 'dict' type?\n",
    "# 1. d = {\"Name\": \"Tom\" }\n",
    "# 2. d = { (1,3,4): 4.5 }\n",
    "# 3. d = { [\"First\", \"Last\"]: (1,3) }\n",
    "# 4. d = { 1: 0.4 }\n",
    "# 5. None of the above\n",
    "\n",
    "#2"
   ]
  },
  {
   "cell_type": "code",
   "execution_count": 16,
   "metadata": {
    "colab": {},
    "colab_type": "code",
    "id": "7kPbKcfMzTHP"
   },
   "outputs": [
    {
     "name": "stdout",
     "output_type": "stream",
     "text": [
      "['a']\n"
     ]
    },
    {
     "data": {
      "text/plain": [
       "['b', 'c']"
      ]
     },
     "execution_count": 16,
     "metadata": {},
     "output_type": "execute_result"
    }
   ],
   "source": [
    "# Write a function reverseLookup(dictionary, value) that takes in a dictionary \n",
    "# and a value as arguments and returns a sorted list of all keys that contains the value. \n",
    "# The function will return an empty list if no match is found.\n",
    "\n",
    "# In - reverseLookup({'a':1, 'b':2, 'c':2}, 1)\n",
    "# Out - ['a']\n",
    "# In - reverseLookup({'a':1, 'b':2, 'c':2}, 2)\n",
    "# Out - ['b', 'c']\n",
    "# In - reverseLookup({'a':1, 'b':2, 'c':2}, 3)\n",
    "# Out - []\n",
    "\n",
    "def reverseLookup(indict, x):\n",
    "    out=[]\n",
    "    for i in indict:\n",
    "        if indict[i]==x:\n",
    "            out.append(i)\n",
    "        else:\n",
    "            pass\n",
    "    return(out)\n",
    "\n",
    "print(reverseLookup({'a':1, 'b':2, 'c':2}, 1))\n",
    "reverseLookup({'a':1, 'b':2, 'c':2}, 2)\n",
    "    \n"
   ]
  },
  {
   "cell_type": "code",
   "execution_count": 24,
   "metadata": {
    "colab": {},
    "colab_type": "code",
    "id": "s87Rvg2HDFYp"
   },
   "outputs": [
    {
     "name": "stdout",
     "output_type": "stream",
     "text": [
      "{1: 'a', 2: ['b', 'd'], 3: 'c'}\n"
     ]
    }
   ],
   "source": [
    "# Write a function invertDictionary(d) that takes in a dictionary as argument and return a dictionary that inverts the keys and the values of the original dictionary.\n",
    "# In - invertDictionary({'a':1, 'b':2, 'c':3, 'd':2})\n",
    "# Out - {1: ['a'], 2: ['b', 'd'], 3: ['c']}\n",
    "# In - invertDictionary({'a':3, 'b':3, 'c':3})\n",
    "# Out - {3: ['a', 'c', 'b']}  \n",
    "  \n",
    "# In - invertDictionary({'a':2, 'b':1, 'c':2, 'd':1})\n",
    "# Out - {1: ['b', 'd'], 2: ['a', 'c']}\n",
    "\n",
    "def invertDictionary(d):\n",
    "    out= { value:key for key,value in d.items()}      \n",
    "    j=list(d.values())\n",
    "    for i in j:\n",
    "        temp=[]\n",
    "        for k in d:\n",
    "            if j.count(i)>1 and d[k]==i:\n",
    "                temp.append(k)\n",
    "                out[i]= temp\n",
    "                \n",
    "            else:\n",
    "                pass\n",
    "            \n",
    "    return out\n",
    "    \n",
    "\n",
    "print(invertDictionary({'a':1, 'b':2, 'c':3, 'd':2}))         \n",
    "\n",
    "\n"
   ]
  },
  {
   "cell_type": "code",
   "execution_count": null,
   "metadata": {
    "colab": {},
    "colab_type": "code",
    "id": "DgYyaZU6Oz7E"
   },
   "outputs": [],
   "source": [
    "# Write a function that converts a sparse vector into a dictionary as described above.\n",
    "# In - convertVector([1, 0, 0, 2, 0, 0, 0, 3, 0, 0, 0, 0, 4])\n",
    "# Out - {0: 1, 3: 2, 7: 3, 12: 4}\n",
    "# In - convertVector([1, 0, 1 , 0, 2, 0, 1, 0, 0, 1, 0])d\n",
    "# Out - {0: 1, 2: 1, 4: 2, 6: 1, 9: 1}\n",
    "# In - convertVector([0, 0, 0, 0, 0])\n",
    "# Out - {}\n",
    "\n",
    "def convertVector(dlist):\n",
    "    out={ }\n",
    "    i=0\n",
    "    while i < len(dlist):\n",
    "        if(dlist[i]!=0):\n",
    "            out[i]=dlist[i]\n",
    "        i+=1\n",
    "    return out\n",
    "\n",
    "print(convertVector([1, 0, 0, 2, 0, 0, 0, 3, 0, 0, 0, 0, 4]))\n",
    "        \n",
    "        \n",
    "        "
   ]
  },
  {
   "cell_type": "code",
   "execution_count": 2,
   "metadata": {
    "colab": {},
    "colab_type": "code",
    "id": "ETCmEcflTGCI"
   },
   "outputs": [
    {
     "name": "stdout",
     "output_type": "stream",
     "text": [
      "[1, 0, 0, 2, 0, 0, 0, 3, 0, 0, 0, 0, 4]\n",
      "[1, 0, 1, 0, 2, 0, 1, 0, 0, 1]\n"
     ]
    }
   ],
   "source": [
    "# Write a function that converts a dictionary back to its sparse vector representation.\n",
    "# In - convertDictionary({0: 1, 3: 2, 7: 3, 12: 4})\n",
    "# Out - [1, 0, 0, 2, 0, 0, 0, 3, 0, 0, 0, 0, 4]\n",
    "# In - convertDictionary({0: 1, 2: 1, 4: 2, 6: 1, 9: 1})\n",
    "# Out - [1, 0, 1, 0, 2, 0, 1, 0, 0, 1]\n",
    "# In - convertDictionary({})\n",
    "# Out - []\n",
    " \n",
    "def convertDictionary(lstdict):\n",
    "    temp= list(lstdict.keys())\n",
    "    out=[]\n",
    "    a=temp[len(temp)-1]\n",
    "    i=0\n",
    "    while i<=a:\n",
    "        out.append(0)\n",
    "        i+=1\n",
    "    for j in temp:\n",
    "        out[j]=lstdict[j]\n",
    "    return(out)\n",
    "    \n",
    "\n",
    "print(convertDictionary({0: 1, 3: 2, 7: 3, 12: 4}))\n",
    "print(convertDictionary({0: 1, 2: 1, 4: 2, 6: 1, 9: 1}))\n"
   ]
  },
  {
   "cell_type": "code",
   "execution_count": 4,
   "metadata": {
    "colab": {},
    "colab_type": "code",
    "id": "tTANm2QKZXh3"
   },
   "outputs": [
    {
     "name": "stdout",
     "output_type": "stream",
     "text": [
      "{'emp1': {'name': 'Jhon', 'salary': 7500}, 'emp2': {'name': 'Emma', 'salary': 8000}, 'emp3': {'name': 'Brad', 'salary': '8500'}}\n"
     ]
    }
   ],
   "source": [
    "# Given a Python dictionary, Change Brad’s salary to 8500\n",
    "# sampleDict = {\n",
    "#      'emp1': {'name': 'Jhon', 'salary': 7500},\n",
    "#      'emp2': {'name': 'Emma', 'salary': 8000},\n",
    "#      'emp3': {'name': 'Brad', 'salary': 6500}\n",
    "# }\n",
    "\n",
    "# Expected Output\n",
    "# sampleDict = {\n",
    "#      'emp1': {'name': 'Jhon', 'salary': 7500},\n",
    "#      'emp2': {'name': 'Emma', 'salary': 8000},\n",
    "#      'emp3': {'name': 'Brad', 'salary': 8500}\n",
    "# }\n",
    "\n",
    "sampleDict = {\n",
    "     'emp1': {'name': 'Jhon', 'salary': 7500},\n",
    "     'emp2': {'name': 'Emma', 'salary': 8000},\n",
    "     'emp3': {'name': 'Brad', 'salary': 6500}\n",
    "}\n",
    "\n",
    "\n",
    "sampleDict['emp3']['salary']='8500'\n",
    "print(sampleDict)\n",
    "\n"
   ]
  },
  {
   "cell_type": "code",
   "execution_count": null,
   "metadata": {
    "colab": {},
    "colab_type": "code",
    "id": "8dUHXiCVZmUx"
   },
   "outputs": [
    {
     "name": "stdout",
     "output_type": "stream",
     "text": [
      "[('Physics', 82), ('Math', 65), ('history', 75)]\n"
     ]
    }
   ],
   "source": [
    "# Get the key corresponding to the minimum value from the following dictionary\n",
    "# sampleDict = {\n",
    "#   'Physics': 82,\n",
    "#   'Math': 65,\n",
    "#   'history': 75\n",
    "# }\n",
    "\n",
    "# Expected Output\n",
    "# Math\n",
    "sampleDict = {\n",
    "  'Physics': 82,\n",
    "  'Math': 65,\n",
    "  'history': 75\n",
    "}\n",
    "\n",
    "outlst=[]\n",
    "outlst= list(sampleDict.items())\n",
    "print(outlst)\n",
    "for i in outlst:\n",
    "    j=0\n",
    "    while j < len(outlst):\n",
    "        if(i[1]>outlst[j][1]):\n",
    "            res=outlst[j][0]\n",
    "            \n",
    "        else:\n",
    "            pass\n",
    "        j+=1\n",
    "print(res)"
   ]
  },
  {
   "cell_type": "code",
   "execution_count": 4,
   "metadata": {
    "colab": {},
    "colab_type": "code",
    "id": "AQe5QNGdZ7aJ"
   },
   "outputs": [
    {
     "name": "stdout",
     "output_type": "stream",
     "text": [
      "{'name': 'Kelly', 'age': 25, 'salary': 8000, 'Location': 'New york'}\n"
     ]
    }
   ],
   "source": [
    "# Rename key city to location in the following dictionary\n",
    "# sampleDict = {\n",
    "#   \"name\": \"Kelly\",\n",
    "#   \"age\":25,\n",
    "#   \"salary\": 8000,\n",
    "#   \"city\": \"New york\"\n",
    "# }\n",
    "\n",
    "# Expected Output\n",
    "# {\n",
    "#   \"name\": \"Kelly\",\n",
    "#   \"age\":25,\n",
    "#   \"salary\": 8000,\n",
    "#   \"location\": \"New york\"\n",
    "# }\n",
    "\n",
    "sampleDict = {\n",
    "  \"name\": \"Kelly\",\n",
    "  \"age\":25,\n",
    "  \"salary\": 8000,\n",
    "  \"city\": \"New york\"\n",
    "}\n",
    "\n",
    "sampleDict['Location']=sampleDict.pop('city')\n",
    "print(sampleDict)"
   ]
  },
  {
   "cell_type": "code",
   "execution_count": 12,
   "metadata": {
    "colab": {},
    "colab_type": "code",
    "id": "e19_ddO9aNNw"
   },
   "outputs": [
    {
     "name": "stdout",
     "output_type": "stream",
     "text": [
      "True\n"
     ]
    }
   ],
   "source": [
    "# Check if a value 200 exists in a dictionary\n",
    "sampleDict = {'a': 100, 'b': 200, 'c': 300}\n",
    "\n",
    "# Expected Output: True\n",
    "\n",
    "res = [True for key,value in sampleDict.items() if (value==200)]\n",
    "print(res[0])\n"
   ]
  },
  {
   "cell_type": "code",
   "execution_count": 16,
   "metadata": {
    "colab": {},
    "colab_type": "code",
    "id": "yphwjc1gabMa"
   },
   "outputs": [
    {
     "name": "stdout",
     "output_type": "stream",
     "text": [
      "{'age': 25, 'city': 'New york'}\n"
     ]
    }
   ],
   "source": [
    "# Delete set of keys from Python Dictionary\n",
    "sampleDict = {\n",
    "  \"name\": \"Kelly\",\n",
    "  \"age\":25,\n",
    "  \"salary\": 8000,\n",
    "  \"city\": \"New york\"\n",
    "  \n",
    " }\n",
    "# keysToRemove = [\"name\", \"salary\"]\n",
    "\n",
    "# Expected Output:\n",
    "# {'city': 'New york', 'age': 25}\n",
    "\n",
    "sampleDict.pop('name')\n",
    "sampleDict.pop('salary')\n",
    "print(sampleDict)"
   ]
  },
  {
   "cell_type": "code",
   "execution_count": null,
   "metadata": {},
   "outputs": [],
   "source": []
  }
 ],
 "metadata": {
  "colab": {
   "name": "Dictionary_Assignment.ipynb",
   "provenance": []
  },
  "kernelspec": {
   "display_name": "Python 3",
   "language": "python",
   "name": "python3"
  },
  "language_info": {
   "codemirror_mode": {
    "name": "ipython",
    "version": 3
   },
   "file_extension": ".py",
   "mimetype": "text/x-python",
   "name": "python",
   "nbconvert_exporter": "python",
   "pygments_lexer": "ipython3",
   "version": "3.7.6"
  }
 },
 "nbformat": 4,
 "nbformat_minor": 4
}
