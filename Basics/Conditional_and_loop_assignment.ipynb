{
 "cells": [
  {
   "cell_type": "markdown",
   "metadata": {
    "colab_type": "text",
    "id": "wNRNTbrsc53d"
   },
   "source": [
    "# If - elif - else statement"
   ]
  },
  {
   "cell_type": "code",
   "execution_count": null,
   "metadata": {
    "colab": {},
    "colab_type": "code",
    "id": "MiPfTnBycxNa"
   },
   "outputs": [],
   "source": [
    "#W. A P. which takes one number from 0 to 9 from the user and prints it in the word. And if the word is not from 0 to 9 then\n",
    "#it should print that number is outside of the range and program should exit.\n",
    "# For exapmple:- \n",
    "# input = 1\n",
    "# output = one\n",
    "\n",
    "a= int(input('Enter a number between 0 to 9'))\n",
    "numdic = {0:'zero', 1:'one', 2:'two', 3: 'three', 4:'four', 5:'five', 6:'six', 7:'seven', 8:'eight', 9:'nine'}\n",
    "\n",
    "if (a> 9 or a <0) : \n",
    "    print ('number is outside of the range')\n",
    "else:\n",
    "    for i in numdic:    \n",
    "        if (i == a):\n",
    "            print(numdic[i])\n",
    "        \n",
    "        "
   ]
  },
  {
   "cell_type": "code",
   "execution_count": null,
   "metadata": {
    "colab": {},
    "colab_type": "code",
    "id": "vEMNOv9zdA39"
   },
   "outputs": [],
   "source": [
    "#W. A P. to implement calculator but the operation to be done and two numbers will be taken as input from user:-\n",
    "#Operation console should show below:-\n",
    "#     Please select any one operation from below:-\n",
    "#         * To add enter 1\n",
    "#         * to subtract enter 2\n",
    "#         * To multiply enter 3\n",
    "#         * To divide enter 4\n",
    "#         * To divide and find quotient enter 5\n",
    "#         * To divide and find remainder enter 6\n",
    "#         * To divide and find num1 to the power of num2 enter 7\n",
    "#         * To Come out of the program enter 8\n",
    "\n",
    "o1= int(input('Enter first operand'))\n",
    "o2= int(input('Enter second operand'))\n",
    "Ins3= ['*To add enter 1', '*To subtract enter 2','*To multiply enter 3', '*To divide enter 4', '*To divide and find quotient enter 5','*To divide and find remainder enter 6','*To divide and find num1 to the power of num2 enter 7','*To Come out of the program enter 8']\n",
    "print ('Please select any one operation from below:-')\n",
    "print();\n",
    "for j in Ins3:\n",
    "    print(j)\n",
    "    print();\n",
    "op={1:'+', 2:'-',3:'*',4:'/',5:'//',6:'%',7:'**', 8:'break'}\n",
    "o3 = int((input('Enter operator')))\n",
    "for k in op:\n",
    "    if (o3 == k and o3!=8):\n",
    "        result=eval(f'o1{op[k]}o2')\n",
    "        print(result)\n",
    "    elif o3==8:\n",
    "        print('program exit')\n",
    "        break\n",
    "    "
   ]
  },
  {
   "cell_type": "code",
   "execution_count": null,
   "metadata": {
    "colab": {},
    "colab_type": "code",
    "id": "1e2gwYLqdC1s"
   },
   "outputs": [],
   "source": [
    "#W A P to check whether a year entered by user is an leap year or not?\n",
    "#Check with below input:-\n",
    "    #leap year:- 2012, 1968, 2004, 1200, 1600,2400\n",
    "    #Non-lear year:- 1971, 2006, 1700,1800,1900\n",
    "    \n",
    "year= int(input('Enter a year'))\n",
    "if (year%400==0 or (year%4==0 and year%100!=0)):\n",
    "    print('Year is a leap year')\n",
    "else:\n",
    "    print('Year is not a leap year')"
   ]
  },
  {
   "cell_type": "code",
   "execution_count": null,
   "metadata": {
    "colab": {},
    "colab_type": "code",
    "id": "_tpXv1EtdEre"
   },
   "outputs": [],
   "source": [
    "#W A P which takes one number from the user and checks whether it is an even or odd number?, If it even then prints number is \n",
    "#even number else prints that number is odd number.\n",
    "\n",
    "numeo = int(input('Enter a number Natural number'))\n",
    "if (numeo>0 and numeo%2==0):\n",
    "    print(numeo, 'is even number')\n",
    "elif numeo==0:\n",
    "    print('Number should be greater then 0')\n",
    "else :\n",
    "    print('Number is odd number')\n",
    "\n"
   ]
  },
  {
   "cell_type": "code",
   "execution_count": null,
   "metadata": {
    "colab": {},
    "colab_type": "code",
    "id": "Q1HumymCdG6i"
   },
   "outputs": [],
   "source": [
    "#W A P which takes two numbers from the user and prints below output:-\n",
    "#     1. num1 is greater than num2 if num1 is greater than num2\n",
    "#     2. num1 is smaller than num2 if num1 is smaller than num2\n",
    "#     3. num1 is equal to num2 if num1 and num2 are equal\n",
    "\n",
    "#Note:- 1. Do this problem using if - else \n",
    "#       2. Do this using ternary operator\n",
    "\n",
    "num1= int(input('Enter 1st number'))\n",
    "num2= int(input('Enter second number'))\n",
    "print( f'{num1} is greater than {num2}' if num1>num2 else f'{num1} is smaller than {num2}')\n"
   ]
  },
  {
   "cell_type": "code",
   "execution_count": null,
   "metadata": {
    "colab": {},
    "colab_type": "code",
    "id": "LR6TVB-DdOPf"
   },
   "outputs": [],
   "source": [
    "#W A P which takes three numbers from the user and prints below output:-\n",
    "#     1. num1 is greater than num2 and num3 if num1 is greater than num2 and num3\n",
    "#     2. num2 is greater than num1 and num3 if num2 is greater than num1 and num3\n",
    "#     3. num3 is greater than num1 and num2 if num3 is greater than num1 and num2\n",
    "\n",
    "#Note:- 1. Do this problem using if - elif - else \n",
    "#       2. Do this using ternary operator\n",
    "\n",
    "# a = a if a>b else b\n",
    "numa= int(input('Enter 1st num'))\n",
    "numb= int(input('Enter 2nd num'))\n",
    "numc= int(input('Enter 3rd num'))\n",
    "print(f'{numa} is greater than {numb} and {numc}') if (numa>numb and numa>numc) else print(f'{numb} is greater than {numa} and {numc}') if (numb>numc and numb>numa) else print(f'{numc} is greater than {numa} and {numb}')\n",
    "    \n",
    "      \n",
    "\n"
   ]
  },
  {
   "cell_type": "code",
   "execution_count": null,
   "metadata": {
    "colab_type": "text",
    "id": "IoOLQMUGdSox"
   },
   "outputs": [],
   "source": [
    "# Loops - for loop, while loop"
   ]
  },
  {
   "cell_type": "code",
   "execution_count": null,
   "metadata": {
    "colab": {},
    "colab_type": "code",
    "id": "9K23Uld8dQfA"
   },
   "outputs": [],
   "source": [
    "#Write a Python program to find the length of the my_str using loop:-\n",
    "\n",
    "#Input:- 'Write a Python program to find the length of the my_str'\n",
    "#Output:- 55\n",
    "\n",
    "my_str = 'This is While Loop program.'\n",
    "\n",
    "i=0\n",
    "j=0\n",
    "lastelement=my_str[-1]\n",
    "#print (lastelement)\n",
    "while my_str[i]!=lastelement:\n",
    "    j+=1\n",
    "    i+=1\n",
    "print(j)\n"
   ]
  },
  {
   "cell_type": "code",
   "execution_count": null,
   "metadata": {
    "colab": {},
    "colab_type": "code",
    "id": "bp6AcqTsdYxy"
   },
   "outputs": [],
   "source": [
    "#Write a Python program to find the total number of times letter 'p' is appeared in the below string using loop:-\n",
    "    \n",
    "#Input:- 'peter piper picked a peck of pickled peppers.\\n'\n",
    "#Output:- 9\n",
    "\n",
    "mystr='peter piper picked a peck of pickled peppers.\\n'\n",
    "i=0\n",
    "j=0\n",
    "while i<len(mystr):\n",
    "    if(mystr[i]=='p'):\n",
    "        j+=1\n",
    "    i+=1\n",
    "print(j)\n",
    "            \n"
   ]
  },
  {
   "cell_type": "code",
   "execution_count": null,
   "metadata": {
    "colab": {},
    "colab_type": "code",
    "id": "xvxSBhTJdav1"
   },
   "outputs": [],
   "source": [
    "#Write a Python Program, to print all the indexes of all occurences of letter 'p' appeared in the string using loop:-\n",
    "    \n",
    "#Input:- 'peter piper picked a peck of pickled peppers.'\n",
    "#Output:- \n",
    "# 0\n",
    "# 6\n",
    "# 8\n",
    "# 12\n",
    "# 21\n",
    "# 29\n",
    "# 37\n",
    "# 39\n",
    "# 40\n",
    "\n",
    "mystr='peter piper picked a peck of pickled peppers.\\n'\n",
    "i=0\n",
    "j=0\n",
    "while i<len(mystr):\n",
    "    if(mystr[i]=='p'):\n",
    "        print(i)\n",
    "        print()\n",
    "    i+=1\n"
   ]
  },
  {
   "cell_type": "code",
   "execution_count": null,
   "metadata": {
    "colab": {},
    "colab_type": "code",
    "id": "79L_feMadbmw"
   },
   "outputs": [],
   "source": [
    "#Write a python program to find below output using loop:-\n",
    "\n",
    "#Input:- 'peter piper picked a peck of pickled peppers.'\n",
    "#Output:- ['peter', 'piper', 'picked', 'a', 'peck', 'of', 'pickled', 'peppers']\n",
    "\n",
    "mystr='peter piper picked a peck of pickled peppers.\\n'\n",
    "i=0\n",
    "k=0\n",
    "lst=[]\n",
    "while i<len(mystr):\n",
    "    if(mystr[i]==' ' or mystr[i]=='.'):\n",
    "        j=''\n",
    "        j= mystr[k:i:]\n",
    "        lst.append(j)\n",
    "        k=i\n",
    "    i+=1\n",
    " \n",
    "print(lst)\n",
    "\n",
    "\n"
   ]
  },
  {
   "cell_type": "code",
   "execution_count": null,
   "metadata": {
    "colab": {},
    "colab_type": "code",
    "id": "vzs5AJ53deVS"
   },
   "outputs": [],
   "source": [
    "#Write a python program to find below output using loop:-\n",
    "\n",
    "#Input:- 'peter piper picked a peck of pickled peppers.'\n",
    "#Output:- 'peppers pickled of peck a picked piper peter'\n",
    "\n",
    "mystr='peter piper picked a peck of pickled peppers.\\n'\n",
    "i=-2\n",
    "k=-2\n",
    "outstr=''\n",
    "j=''\n",
    "while i>=-len(mystr):\n",
    "    if(mystr[i]==' ' or mystr[i]=='.'):\n",
    "        j= mystr[i+1:k:1]+' '\n",
    "        outstr=outstr+j\n",
    "        j=''\n",
    "        k=i\n",
    "    elif i ==-len(mystr):\n",
    "        j= mystr[i:k:1]\n",
    "        outstr=outstr+j\n",
    "        j=''\n",
    "    i-=1\n",
    "print(outstr)\n",
    "\n"
   ]
  },
  {
   "cell_type": "code",
   "execution_count": null,
   "metadata": {
    "colab": {},
    "colab_type": "code",
    "id": "i-HP7DrCdhwS"
   },
   "outputs": [],
   "source": [
    "#Write a python program to find below output using loop:-\n",
    "\n",
    "#Input:- 'peter piper picked a peck of pickled peppers.'\n",
    "#Output:- '.sreppep delkcip fo kcep a dekcip repip retep'\n",
    "\n",
    "mystr='peter piper picked a peck of pickled peppers.'\n",
    "i=-1\n",
    "outstr=''\n",
    "j=''\n",
    "while i>=-len(mystr):\n",
    "    j= mystr[i]\n",
    "    outstr=outstr+j\n",
    "    j=''\n",
    "    i-=1\n",
    "print(outstr)\n",
    "\n",
    "\n",
    "\n"
   ]
  },
  {
   "cell_type": "code",
   "execution_count": null,
   "metadata": {
    "colab": {},
    "colab_type": "code",
    "id": "3rt6p0ytdkq0"
   },
   "outputs": [],
   "source": [
    "#Write a python program to find below output using loop:-\n",
    "\n",
    "#Input:- 'peter piper picked a peck of pickled peppers.'\n",
    "#Output:- 'retep repip dekcip a kcep fo delkcip sreppep'\n",
    "\n",
    "str2='peter piper picked a peck of pickled peppers.'\n",
    "i=0\n",
    "outstr2=''\n",
    "j=' '\n",
    "while i<len(str2):\n",
    "    if ( str2[i]==' ' or str2[i]=='.'):\n",
    "        k=-1\n",
    "        m=''\n",
    "        while k>=-len(j):\n",
    "            m=m+j[k]\n",
    "            k-=1\n",
    "        j=' '    \n",
    "        outstr2=outstr2+m \n",
    "    else :\n",
    "        j=j+str2[i]\n",
    "    i+=1\n",
    "print(outstr2)\n"
   ]
  },
  {
   "cell_type": "code",
   "execution_count": null,
   "metadata": {
    "colab": {},
    "colab_type": "code",
    "id": "HdlAWgT2dnKO"
   },
   "outputs": [],
   "source": [
    "#Write a python program to find below output using loop:-\n",
    "\n",
    "#Input:- 'peter piper picked a peck of pickled peppers.'\n",
    "#Output:- 'Peter Piper Picked A Peck Of Pickled Peppers'\n",
    "\n",
    "str2='peter piper picked a peck of pickled peppers.'\n",
    "i=0\n",
    "outstr2=''\n",
    "while i< (len(str2)-1):\n",
    "    if (i==0 or (i!=0 and str2[i-1]==' ')):\n",
    "        outstr2=outstr2 + str2[i].upper()\n",
    "    elif (i!=0 or str2[i-1]!=' '):\n",
    "        outstr2=outstr2 + str2[i]\n",
    "    i+=1    \n",
    "print(outstr2)\n"
   ]
  },
  {
   "cell_type": "code",
   "execution_count": null,
   "metadata": {
    "colab": {},
    "colab_type": "code",
    "id": "OthUuacodrNl"
   },
   "outputs": [],
   "source": [
    "#Write a python program to find below output using loop:-\n",
    "\n",
    "#Input:- 'Peter Piper Picked A Peck Of Pickled Peppers.'\n",
    "#Output:- 'Peter piper picked a peck of pickled peppers'\n",
    "\n",
    "str2='Peter Piper Picked A Peck Of Pickled Peppers.'\n",
    "i=0\n",
    "outstr2=''\n",
    "while i< (len(str2)-1):\n",
    "    if i==0 :\n",
    "        outstr2=outstr2+str2[i]\n",
    "    else:\n",
    "        outstr2=outstr2+str2[i].lower()\n",
    "    i+=1\n",
    "print(outstr2)\n",
    "    "
   ]
  },
  {
   "cell_type": "code",
   "execution_count": null,
   "metadata": {
    "colab": {
     "base_uri": "https://localhost:8080/",
     "height": 34
    },
    "colab_type": "code",
    "id": "scmDJE-ldsI9",
    "outputId": "4b1d1979-9f4a-4bc6-c505-b88b1bbd4d5d"
   },
   "outputs": [],
   "source": [
    "#Write a python program to implement index method using loop. If sub_str is found in my_str then it will print the index\n",
    "# of first occurrence of first character of matching string in my_str:-\n",
    "\n",
    "#Input:- my_str = 'Peter Piper Picked A Peck Of Pickled Peppers.', sub_str = 'Pickl'\n",
    "#Output:- 29\n",
    "\n"
   ]
  },
  {
   "cell_type": "code",
   "execution_count": null,
   "metadata": {
    "colab": {},
    "colab_type": "code",
    "id": "Kq_fwdb_dvYE"
   },
   "outputs": [],
   "source": [
    "#Write a python program to implement replace method using loop. If sub_str is found in my_str then it will replace the first \n",
    "#occurrence of sub_str with new_str else it will will print sub_str not found:-\n",
    "\n",
    "#Input:- my_str = 'Peter Piper Picked A Peck Of Pickled Peppers.', sub_str = 'Peck', new_str = 'Pack'\n",
    "#Output:- 'Peter Piper Picked A Pack Of Pickled Peppers.'\n",
    "\n",
    "my_str = 'Peter Piper Picked A Peck Of Pickled Peppers.'\n",
    "sub_str= 'Peck'\n",
    "new_str= 'Pack'\n",
    "i=0\n",
    "k=0\n",
    "outstr=''\n",
    "while i<len(my_str):\n",
    "    if(my_str[i]==' ' or my_str[i]=='.'):\n",
    "        j=''\n",
    "        j= my_str[k:i:]\n",
    "        if j==' Peck':\n",
    "            outstr= outstr+ ' Pack' \n",
    "        else:\n",
    "            outstr= outstr+j\n",
    "        k=i\n",
    "    i+=1\n",
    " \n",
    "print(outstr)\n",
    "\n",
    "\n",
    "\n"
   ]
  },
  {
   "cell_type": "code",
   "execution_count": null,
   "metadata": {
    "colab": {},
    "colab_type": "code",
    "id": "4Qes5D0cdyd1"
   },
   "outputs": [],
   "source": [
    "#Write a python program to find below output (implements rjust and ljust) using loop:-\n",
    "\n",
    "#Input:- 'Peter Piper Picked A Peck Of Pickled Peppers.', sub_str = 'Peck', \n",
    "#Output:- '*********************Peck********************'\n",
    "\n",
    "mystr= 'Peter Piper Picked A Peck Of Pickled Peppers.'\n",
    "outstr=\"\"\n",
    "i=0\n",
    "k=0\n",
    "\n",
    "while i<len(mystr):\n",
    "    if(mystr[i]==' ' or mystr[i]=='.'):\n",
    "        j=''\n",
    "        j= mystr[k:i:]\n",
    "        if(j==\" Peck\"):\n",
    "            outstr=outstr+'*'+j[1::]\n",
    "        else:\n",
    "            for m in j:\n",
    "                outstr=outstr+'*'\n",
    "        k=i\n",
    "    i+=1\n",
    "    \n",
    "print(outstr)\n",
    "\n",
    "#Not able to understand how to achieve this with ljust and rjust?\n",
    "\n",
    "\n",
    "\n"
   ]
  },
  {
   "cell_type": "code",
   "execution_count": null,
   "metadata": {
    "colab": {},
    "colab_type": "code",
    "id": "DsOrb07Od0lR"
   },
   "outputs": [],
   "source": [
    "#Write a python program to find below output using loop:-\n",
    "\n",
    "#Input:- 'This is Python class', sep = 'is', \n",
    "#Output:- ['This', 'is', 'Python class']\n",
    "\n",
    "mystr='This is Python class'\n",
    "lst=[]\n",
    "i=0\n",
    "k=0\n",
    "while i<len(mystr):\n",
    "    if(mystr[i]==' '):\n",
    "        j=''\n",
    "        if(k==0):\n",
    "            j= mystr[k:i:]\n",
    "        else:\n",
    "            j= mystr[k+1:i:]\n",
    "        lst.append(j)\n",
    "        if(j == ' is'):\n",
    "            j= mystr[i+1::]\n",
    "            lst.append(j)\n",
    "            break\n",
    "        k=i\n",
    "    i+=1\n",
    "print(lst)"
   ]
  },
  {
   "cell_type": "code",
   "execution_count": 1,
   "metadata": {
    "colab": {},
    "colab_type": "code",
    "id": "jRnBVufmd2Ay"
   },
   "outputs": [
    {
     "name": "stdin",
     "output_type": "stream",
     "text": [
      "Enter string to convert Python\n"
     ]
    },
    {
     "name": "stdout",
     "output_type": "stream",
     "text": [
      "R{vkfml\n"
     ]
    }
   ],
   "source": [
    "#Write a python program which takes one input string from user and encode it in below format:-\n",
    "    # 1. #Input:- 'Python'\n",
    "       #Output:- 'R{vjqp'\n",
    "        \n",
    "        \n",
    "# encstr= input('Enter string to convert')\n",
    "# i=0\n",
    "# outstr=''\n",
    "# while(i<len(encstr)):        \n",
    "#     outstr= outstr+ chr((ord(encstr[i])+2))\n",
    "#     i+=1\n",
    "# print(outstr)\n",
    "    \n",
    "# 2. #Input:- 'Python'\n",
    " #Output:- 'Rwvfql'\n",
    "\n",
    "# encstr= input('Enter string to convert')\n",
    "# i=0\n",
    "# outstr=''\n",
    "# while(i<len(encstr)):        \n",
    "#     if(i%2==0):\n",
    "#         outstr= outstr+ chr((ord(encstr[i])+2))\n",
    "#     else:\n",
    "#         outstr= outstr+ chr((ord(encstr[i])-2))\n",
    "      \n",
    "#     i+=1\n",
    "# print(outstr)\n",
    "        \n",
    "         \n",
    "        \n",
    "        \n",
    "    # 3. #Input:- 'Python'\n",
    "       #Output:- 'R{vkfml'\n",
    "        \n",
    "encstr= input('Enter string to convert')\n",
    "i=0\n",
    "outstr=''\n",
    "while(i< len(encstr)):  \n",
    "    j=len(encstr)//2\n",
    "    if(i<j):\n",
    "        outstr= outstr+ chr((ord(encstr[i])+2))\n",
    "    elif (i%j==0):\n",
    "          outstr= outstr+ 'k'\n",
    "          outstr= outstr+ chr((ord(encstr[i])-2))\n",
    "    elif (i>j):\n",
    "        outstr= outstr+ chr((ord(encstr[i])-2))\n",
    "      \n",
    "    i+=1\n",
    "print(outstr)\n",
    "\n",
    "\n"
   ]
  },
  {
   "cell_type": "code",
   "execution_count": null,
   "metadata": {},
   "outputs": [],
   "source": []
  },
  {
   "cell_type": "code",
   "execution_count": null,
   "metadata": {},
   "outputs": [],
   "source": []
  }
 ],
 "metadata": {
  "colab": {
   "name": "Conditional_and_loop_assignment.ipynb",
   "provenance": []
  },
  "kernelspec": {
   "display_name": "Python 3",
   "language": "python",
   "name": "python3"
  },
  "language_info": {
   "codemirror_mode": {
    "name": "ipython",
    "version": 3
   },
   "file_extension": ".py",
   "mimetype": "text/x-python",
   "name": "python",
   "nbconvert_exporter": "python",
   "pygments_lexer": "ipython3",
   "version": "3.7.6"
  }
 },
 "nbformat": 4,
 "nbformat_minor": 4
}
